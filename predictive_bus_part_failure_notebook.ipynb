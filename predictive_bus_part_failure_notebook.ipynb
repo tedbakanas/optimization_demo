{
 "cells": [
  {
   "cell_type": "code",
   "execution_count": 1,
   "metadata": {},
   "outputs": [],
   "source": [
    "#if your libraries are not loading, uncomment the relevant line to install\n",
    "\n",
    "#Random\n",
    "# import Pkg; Pkg.add(\"ACME\")\n",
    "\n",
    "#DataFrames\n",
    "# import Pkg; Pkg.add(\"DataFrames\")\n",
    "\n",
    "#JuMP\n",
    "# import Pkg; Pkg.add(\"JuMP\")\n",
    "\n",
    "#GLPKMathProgInterface\n",
    "# import Pkg; Pkg.add(\"GLPKMathProgInterface\")"
   ]
  },
  {
   "cell_type": "code",
   "execution_count": 2,
   "metadata": {},
   "outputs": [
    {
     "data": {
      "text/plain": [
       "GenerateExampleBusData (generic function with 2 methods)"
      ]
     },
     "execution_count": 2,
     "metadata": {},
     "output_type": "execute_result"
    }
   ],
   "source": [
    "#load all the libraries and functions we will need\n",
    "using Random\n",
    "using DataFrames\n",
    "using JuMP, GLPKMathProgInterface\n",
    "using Base\n",
    "\n",
    "function GenerateExampleBusData(number_of_buses, maxHoursToRepair, minHoursToRepair, failuresPerBus, maxDays, partList = [\"battery\",\"tires\",\"brakes\",\"air filter\",\"engine cooling\",\"transmission\"])\n",
    "    #make buses\n",
    "    bus_df = DataFrame(\n",
    "        bus_id = string.(\"bus_\",collect(1:number_of_buses))\n",
    "        , shop_id=\"shop_1\")\n",
    "\n",
    "    #make the parts\n",
    "    part_type_df = DataFrame(\n",
    "        part_id = string.(\"part_\",collect(1:length(partList)))\n",
    "        , part_type_name = partList\n",
    "        , hours_to_repair = rand(minHoursToRepair:maxHoursToRepair, length(partList)))\n",
    "\n",
    "    #make the failures\n",
    "    pred_failure_df = DataFrame(\n",
    "        pred_failure_id = string.(\"pred_\",collect(1:(number_of_buses * failuresPerBus)))\n",
    "        , bus_id = rand(bus_df[:,Symbol(\"bus_id\")], (number_of_buses * failuresPerBus))\n",
    "        , part_id = rand(part_type_df[:,Symbol(\"part_id\")], (number_of_buses * failuresPerBus))\n",
    "        , days_to_failure = rand(1:maxDays, number_of_buses * failuresPerBus))\n",
    "\n",
    "    print(\"data generation complete \\n\")\n",
    "    return [bus_df, part_type_df, pred_failure_df]\n",
    "end"
   ]
  },
  {
   "cell_type": "markdown",
   "metadata": {},
   "source": [
    "# STAGE 1\n",
    "\n",
    "## SUMMARY\n",
    "\n",
    "### Variables:\n",
    "Xij: binary. Whether a given truck is in a shop on a given day.  Total number of X is the number of buses (i) multiplied by the number of days the model considers (j).  In the code it takes on a matrix of the dimensions i by j\n",
    "\n",
    "### Objective:\n",
    "Min sum(Xij).  The stage 1 object is straightforward.  Minimize the number days a bus spends in a shop\n",
    "\n",
    "### Stage Considerations:\n",
    "* This stage only works because we assume that all teh issues with a single bus can be fixed within a single shop visit.  This allows the constraint pertaining to the part failure to be simple: bring it in before the earliest part failure on the bus.\n",
    "\n",
    "## PROBLEM NOTATION\n",
    "\n",
    "$variable: X_{ij}$, boolean, (bus_in_shop_on_day)\n",
    "\n",
    "$constraint: \\sum_{i=1:I} X_{ij} \\leq SB \\space \\forall j$ (only_so_much_space)\n",
    "\n",
    "$constraint: \\sum_{j=1:min(TTF \\space for \\space all \\space k \\space on \\space i)} X_{ij} \\geq 1 \\space \\forall i$ (bring_it_in_and_fix_it_all_at_once)\n",
    "\n",
    "$objective: min(\\sum_{i=1} \\sum_{j=1} X_{ij})$\n"
   ]
  },
  {
   "cell_type": "code",
   "execution_count": 3,
   "metadata": {},
   "outputs": [
    {
     "name": "stdout",
     "output_type": "stream",
     "text": [
      "data generation complete \n",
      "Min X[1,1] + X[1,2] + X[1,3] + X[1,4] + X[1,5] + X[1,6] + X[1,7] + X[1,8] + X[1,9] + X[1,10] + X[1,11] + X[1,12] + X[1,13] + X[1,14] + X[2,1] + X[2,2] + X[2,3] + X[2,4] + X[2,5] + X[2,6] + X[2,7] + X[2,8] + X[2,9] + X[2,10] + X[2,11] + X[2,12] + X[2,13] + X[2,14] + X[3,1] + X[3,2] + X[3,3] + X[3,4] + X[3,5] + X[3,6] + X[3,7] + X[3,8] + X[3,9] + X[3,10] + X[3,11] + X[3,12] + X[3,13] + X[3,14] + X[4,1] + X[4,2] + X[4,3] + X[4,4] + X[4,5] + X[4,6] + X[4,7] + X[4,8] + X[4,9] + X[4,10] + X[4,11] + X[4,12] + X[4,13] + X[4,14] + X[5,1] + X[5,2] + X[5,3] + X[5,4] + X[5,5] + X[5,6] + X[5,7] + X[5,8] + X[5,9] + X[5,10] + X[5,11] + X[5,12] + X[5,13] + X[5,14]\n",
      "Subject to\n",
      " X[1,1] ≥ 1\n",
      " X[2,1] + X[2,2] + X[2,3] + X[2,4] + X[2,5] + X[2,6] ≥ 1\n",
      " X[3,1] + X[3,2] + X[3,3] + X[3,4] + X[3,5] + X[3,6] + X[3,7] ≥ 1\n",
      " X[4,1] + X[4,2] + X[4,3] + X[4,4] + X[4,5] + X[4,6] ≥ 1\n",
      " X[5,1] + X[5,2] + X[5,3] ≥ 1\n",
      " X[1,1] + X[2,1] + X[3,1] + X[4,1] + X[5,1] ≤ 3\n",
      " X[1,2] + X[2,2] + X[3,2] + X[4,2] + X[5,2] ≤ 3\n",
      " X[1,3] + X[2,3] + X[3,3] + X[4,3] + X[5,3] ≤ 3\n",
      " X[1,4] + X[2,4] + X[3,4] + X[4,4] + X[5,4] ≤ 3\n",
      " X[1,5] + X[2,5] + X[3,5] + X[4,5] + X[5,5] ≤ 3\n",
      " X[1,6] + X[2,6] + X[3,6] + X[4,6] + X[5,6] ≤ 3\n",
      " X[1,7] + X[2,7] + X[3,7] + X[4,7] + X[5,7] ≤ 3\n",
      " X[1,8] + X[2,8] + X[3,8] + X[4,8] + X[5,8] ≤ 3\n",
      " X[1,9] + X[2,9] + X[3,9] + X[4,9] + X[5,9] ≤ 3\n",
      " X[1,10] + X[2,10] + X[3,10] + X[4,10] + X[5,10] ≤ 3\n",
      " X[1,11] + X[2,11] + X[3,11] + X[4,11] + X[5,11] ≤ 3\n",
      " X[1,12] + X[2,12] + X[3,12] + X[4,12] + X[5,12] ≤ 3\n",
      " X[1,13] + X[2,13] + X[3,13] + X[4,13] + X[5,13] ≤ 3\n",
      " X[1,14] + X[2,14] + X[3,14] + X[4,14] + X[5,14] ≤ 3\n",
      " 0 ≤ X[i,j] ≤ 1, integer, ∀ i ∈ {1,2,3,4,5}, j ∈ {1,2,…,13,14}\n",
      "  4.657887 seconds (9.58 M allocations: 468.231 MiB, 6.48% gc time)\n"
     ]
    },
    {
     "data": {
      "text/plain": [
       ":Optimal"
      ]
     },
     "execution_count": 3,
     "metadata": {},
     "output_type": "execute_result"
    }
   ],
   "source": [
    "################################################\n",
    "############# set up the data ##################\n",
    "################################################\n",
    "Random.seed!(1234);\n",
    "\n",
    "#bus company specifics\n",
    "number_of_buses = 5\n",
    "maxHoursToRepair = 8\n",
    "minHoursToRepair = 1\n",
    "failuresPerBus = 3\n",
    "maxDays = 14\n",
    "\n",
    "#generate bus company data\n",
    "dataList = GenerateExampleBusData(number_of_buses, maxHoursToRepair, minHoursToRepair, failuresPerBus, maxDays)\n",
    "bus_df = dataList[1]\n",
    "part_type_df = dataList[2]\n",
    "pred_failure_df = dataList[3]\n",
    "\n",
    "#stage one constants\n",
    "shopBerths = 3\n",
    "\n",
    "###################################################\n",
    "############# set up the program ##################\n",
    "###################################################\n",
    "\n",
    "#make model\n",
    "busScheduleModel = Model(solver=GLPKSolverMIP())\n",
    "\n",
    "#make the variables\n",
    "@variable(busScheduleModel, 0 <= X[1:nrow(bus_df),1:maxDays] <= 1, Int)\n",
    "\n",
    "#make the gotta_save_the_bus constraint\n",
    "#TODO: make the max of the j function that finds the min failure date of a specific part\n",
    "for i in 1:nrow(bus_df)\n",
    "    if length(findall(pred_failure_df.bus_id .== bus_df.bus_id[i])) > 0\n",
    "        daysOutMin = minimum(pred_failure_df[findall(pred_failure_df.bus_id .== bus_df.bus_id[i]),Symbol(\"days_to_failure\")])\n",
    "        @constraint(busScheduleModel, sum{X[i,j],j=1:daysOutMin} >= 1)\n",
    "    end\n",
    "end\n",
    "\n",
    "#make the only_so_much_space constraint\n",
    "for j in 1:maxDays\n",
    "    @constraint(busScheduleModel, sum{X[i,j],i=1:nrow(bus_df)} <= shopBerths)\n",
    "end\n",
    "\n",
    "#make the objective function\n",
    "@objective(busScheduleModel,Min,sum{X[i,j],i=1:nrow(bus_df),j=1:maxDays})\n",
    "\n",
    "#print out what it looks like\n",
    "print(busScheduleModel)\n",
    "\n",
    "#solve it i guess\n",
    "@time begin\n",
    "    status = solve(busScheduleModel)\n",
    "end"
   ]
  },
  {
   "cell_type": "markdown",
   "metadata": {},
   "source": [
    "### Solved objective:"
   ]
  },
  {
   "cell_type": "code",
   "execution_count": 4,
   "metadata": {},
   "outputs": [
    {
     "name": "stdout",
     "output_type": "stream",
     "text": [
      "Bus days in shop (objective): 5.0\n"
     ]
    }
   ],
   "source": [
    "println(\"Bus days in shop (objective): \", getobjectivevalue(busScheduleModel))"
   ]
  },
  {
   "cell_type": "markdown",
   "metadata": {},
   "source": [
    "### Solved X variables:\n",
    "All the buses come into the shop as soon as possible."
   ]
  },
  {
   "cell_type": "code",
   "execution_count": 5,
   "metadata": {},
   "outputs": [
    {
     "data": {
      "text/plain": [
       "5×14 Array{Float64,2}:\n",
       " 1.0  0.0  0.0  0.0  0.0  0.0  0.0  0.0  0.0  0.0  0.0  0.0  0.0  0.0\n",
       " 1.0  0.0  0.0  0.0  0.0  0.0  0.0  0.0  0.0  0.0  0.0  0.0  0.0  0.0\n",
       " 1.0  0.0  0.0  0.0  0.0  0.0  0.0  0.0  0.0  0.0  0.0  0.0  0.0  0.0\n",
       " 0.0  1.0  0.0  0.0  0.0  0.0  0.0  0.0  0.0  0.0  0.0  0.0  0.0  0.0\n",
       " 0.0  1.0  0.0  0.0  0.0  0.0  0.0  0.0  0.0  0.0  0.0  0.0  0.0  0.0"
      ]
     },
     "execution_count": 5,
     "metadata": {},
     "output_type": "execute_result"
    }
   ],
   "source": [
    "getvalue(X)"
   ]
  },
  {
   "cell_type": "markdown",
   "metadata": {},
   "source": [
    "# STAGE 2\n",
    "## SUMMARY\n",
    "\n",
    "### Variables:\n",
    "Xij: binary. Whether a given truck is in a shop on a given day.  Total number of X is the number of buses (i) multiplied by the number of days the model considers (j).  In the code it takes on a matrix of the dimensions i by j\n",
    "\n",
    "Yij: How many hours are spent on a bus when it comes into the shop. Same dimensions and number of variables as X.  Allows additional constraints to be put into place around how much work can be done in a day.\n",
    "\n",
    "### Objective:\n",
    "Min sum(Xij).  Same as stage 2. But in this stage the additional constraints may force more shop visits and more complicated optimization than bring everything in as soon as possible.\n",
    "\n",
    "### Stage Considerations:\n",
    "* The gotta_save_the_part constraint is what allows for additive part repairs. It assumes that the most urgent failing parts will be fixed first. If there are two part repairs on a given bus, the time spent on the bus by the time of the second part failure must be at least the sum of the time to fix both failures.\n",
    "* The gotta_be_in_the_shop_to_work_on constraint is what links Y to X and thus to the objective function. Since X is binary, diving Y by the number of shop_hours and requiring X to be greater than that, will toggle the given bus to in the shop whenever it work will be done on it.\n",
    "\n",
    "## PROBLEM NOTATION\n",
    "\n",
    "$variable: X_{ij}$, boolean, (bus_in_shop_on_day)\n",
    "\n",
    "$variable: Y_{ij} \\geq 0$ cont, (hours_spent_on_bus_on_day) \n",
    "\n",
    "$constraint: \\sum_{i=1:I} X_{ij} \\leq SB \\space \\forall j$ (only_so_much_space)\n",
    "\n",
    "$constraint: \\sum_{i=1:I} Y_{ij} \\leq SH \\space \\forall j$ (only_so_much_time)\n",
    "\n",
    "$constraint: X_{ij} \\geq Y_{ij}/(SH) \\space \\forall i \\forall j$ (gotta_be_in_the_shop_to_work_on)\n",
    "\n",
    "$constraint: \\sum_{i=(i \\space of \\space k)} \\sum_{j=1:(TTF \\space of \\space k)} Y_{ij} \\geq \\sum_{k=K_i} TOR_k \\space \\forall k$ (gotta_save_the_part)\n",
    "\n",
    "$objective: min(\\sum_{i=1} \\sum_{j=1} X_{ij})$"
   ]
  },
  {
   "cell_type": "code",
   "execution_count": 6,
   "metadata": {},
   "outputs": [
    {
     "name": "stdout",
     "output_type": "stream",
     "text": [
      "data generation complete \n",
      "made the variables \n",
      "made the gotta_save_the_part constraint \n",
      "made the gotta_be_in_the_shop_to_work_on constraint \n",
      "made the only_so_much_space constraint \n",
      "made the only_so_much_time constraint \n",
      "Min X[1,1] + X[1,2] + X[1,3] + X[1,4] + X[1,5] + X[1,6] + X[1,7] + X[1,8] + X[1,9] + X[1,10] + X[1,11] + X[1,12] + X[1,13] + X[1,14] + X[2,1] + X[2,2] + X[2,3] + X[2,4] + X[2,5] + X[2,6] + X[2,7] + X[2,8] + X[2,9] + X[2,10] + X[2,11] + X[2,12] + X[2,13] + X[2,14] + X[3,1] + X[3,2] + X[3,3] + X[3,4] + X[3,5] + X[3,6] + X[3,7] + X[3,8] + X[3,9] + X[3,10] + X[3,11] + X[3,12] + X[3,13] + X[3,14] + X[4,1] + X[4,2] + X[4,3] + X[4,4] + X[4,5] + X[4,6] + X[4,7] + X[4,8] + X[4,9] + X[4,10] + X[4,11] + X[4,12] + X[4,13] + X[4,14] + X[5,1] + X[5,2] + X[5,3] + X[5,4] + X[5,5] + X[5,6] + X[5,7] + X[5,8] + X[5,9] + X[5,10] + X[5,11] + X[5,12] + X[5,13] + X[5,14]\n",
      "Subject to\n",
      " Y[5,1] + Y[5,2] + Y[5,3] + Y[5,4] ≥ 15\n",
      " Y[4,1] + Y[4,2] + Y[4,3] + Y[4,4] + Y[4,5] + Y[4,6] ≥ 4\n",
      " Y[3,1] + Y[3,2] + Y[3,3] + Y[3,4] + Y[3,5] + Y[3,6] + Y[3,7] + Y[3,8] + Y[3,9] ≥ 15\n",
      " Y[2,1] + Y[2,2] + Y[2,3] + Y[2,4] + Y[2,5] + Y[2,6] ≥ 8\n",
      " Y[4,1] + Y[4,2] + Y[4,3] + Y[4,4] + Y[4,5] + Y[4,6] + Y[4,7] + Y[4,8] + Y[4,9] + Y[4,10] + Y[4,11] + Y[4,12] + Y[4,13] + Y[4,14] ≥ 18\n",
      " Y[3,1] + Y[3,2] + Y[3,3] + Y[3,4] + Y[3,5] + Y[3,6] + Y[3,7] + Y[3,8] + Y[3,9] + Y[3,10] + Y[3,11] + Y[3,12] ≥ 29\n",
      " Y[5,1] + Y[5,2] + Y[5,3] + Y[5,4] + Y[5,5] + Y[5,6] ≥ 22\n",
      " Y[3,1] + Y[3,2] + Y[3,3] + Y[3,4] + Y[3,5] + Y[3,6] + Y[3,7] + Y[3,8] + Y[3,9] + Y[3,10] + Y[3,11] + Y[3,12] ≥ 29\n",
      " Y[4,1] + Y[4,2] + Y[4,3] + Y[4,4] + Y[4,5] + Y[4,6] + Y[4,7] + Y[4,8] + Y[4,9] + Y[4,10] + Y[4,11] + Y[4,12] + Y[4,13] + Y[4,14] ≥ 18\n",
      " Y[1,1] + Y[1,2] + Y[1,3] + Y[1,4] + Y[1,5] + Y[1,6] + Y[1,7] + Y[1,8] ≥ 15\n",
      " Y[3,1] + Y[3,2] + Y[3,3] + Y[3,4] + Y[3,5] + Y[3,6] + Y[3,7] ≥ 8\n",
      " Y[1,1] ≥ 8\n",
      " Y[5,1] + Y[5,2] + Y[5,3] ≥ 8\n",
      " Y[2,1] + Y[2,2] + Y[2,3] + Y[2,4] + Y[2,5] + Y[2,6] + Y[2,7] + Y[2,8] + Y[2,9] + Y[2,10] + Y[2,11] + Y[2,12] ≥ 24\n",
      " Y[2,1] + Y[2,2] + Y[2,3] + Y[2,4] + Y[2,5] + Y[2,6] + Y[2,7] + Y[2,8] + Y[2,9] + Y[2,10] ≥ 16\n",
      " X[1,1] - 0.058823529411764705 Y[1,1] ≥ 0\n",
      " X[1,2] - 0.058823529411764705 Y[1,2] ≥ 0\n",
      " X[1,3] - 0.058823529411764705 Y[1,3] ≥ 0\n",
      " X[1,4] - 0.058823529411764705 Y[1,4] ≥ 0\n",
      " X[1,5] - 0.058823529411764705 Y[1,5] ≥ 0\n",
      " X[1,6] - 0.058823529411764705 Y[1,6] ≥ 0\n",
      " X[1,7] - 0.058823529411764705 Y[1,7] ≥ 0\n",
      " X[1,8] - 0.058823529411764705 Y[1,8] ≥ 0\n",
      " X[1,9] - 0.058823529411764705 Y[1,9] ≥ 0\n",
      " X[1,10] - 0.058823529411764705 Y[1,10] ≥ 0\n",
      " X[1,11] - 0.058823529411764705 Y[1,11] ≥ 0\n",
      " X[1,12] - 0.058823529411764705 Y[1,12] ≥ 0\n",
      " X[1,13] - 0.058823529411764705 Y[1,13] ≥ 0\n",
      " X[1,14] - 0.058823529411764705 Y[1,14] ≥ 0\n",
      " X[2,1] - 0.058823529411764705 Y[2,1] ≥ 0\n",
      " X[2,2] - 0.058823529411764705 Y[2,2] ≥ 0\n",
      " X[2,3] - 0.058823529411764705 Y[2,3] ≥ 0\n",
      " X[2,4] - 0.058823529411764705 Y[2,4] ≥ 0\n",
      " X[2,5] - 0.058823529411764705 Y[2,5] ≥ 0\n",
      " X[2,6] - 0.058823529411764705 Y[2,6] ≥ 0\n",
      " X[2,7] - 0.058823529411764705 Y[2,7] ≥ 0\n",
      " X[2,8] - 0.058823529411764705 Y[2,8] ≥ 0\n",
      " X[2,9] - 0.058823529411764705 Y[2,9] ≥ 0\n",
      " X[2,10] - 0.058823529411764705 Y[2,10] ≥ 0\n",
      " X[2,11] - 0.058823529411764705 Y[2,11] ≥ 0\n",
      " X[2,12] - 0.058823529411764705 Y[2,12] ≥ 0\n",
      " X[2,13] - 0.058823529411764705 Y[2,13] ≥ 0\n",
      " X[2,14] - 0.058823529411764705 Y[2,14] ≥ 0\n",
      " X[3,1] - 0.058823529411764705 Y[3,1] ≥ 0\n",
      " X[3,2] - 0.058823529411764705 Y[3,2] ≥ 0\n",
      " X[3,3] - 0.058823529411764705 Y[3,3] ≥ 0\n",
      " X[3,4] - 0.058823529411764705 Y[3,4] ≥ 0\n",
      " X[3,5] - 0.058823529411764705 Y[3,5] ≥ 0\n",
      " X[3,6] - 0.058823529411764705 Y[3,6] ≥ 0\n",
      " X[3,7] - 0.058823529411764705 Y[3,7] ≥ 0\n",
      " X[3,8] - 0.058823529411764705 Y[3,8] ≥ 0\n",
      " X[3,9] - 0.058823529411764705 Y[3,9] ≥ 0\n",
      " X[3,10] - 0.058823529411764705 Y[3,10] ≥ 0\n",
      " X[3,11] - 0.058823529411764705 Y[3,11] ≥ 0\n",
      " X[3,12] - 0.058823529411764705 Y[3,12] ≥ 0\n",
      " X[3,13] - 0.058823529411764705 Y[3,13] ≥ 0\n",
      " X[3,14] - 0.058823529411764705 Y[3,14] ≥ 0\n",
      " X[4,1] - 0.058823529411764705 Y[4,1] ≥ 0\n",
      " X[4,2] - 0.058823529411764705 Y[4,2] ≥ 0\n",
      " X[4,3] - 0.058823529411764705 Y[4,3] ≥ 0\n",
      " X[4,4] - 0.058823529411764705 Y[4,4] ≥ 0\n",
      " X[4,5] - 0.058823529411764705 Y[4,5] ≥ 0\n",
      " X[4,6] - 0.058823529411764705 Y[4,6] ≥ 0\n",
      " X[4,7] - 0.058823529411764705 Y[4,7] ≥ 0\n",
      " X[4,8] - 0.058823529411764705 Y[4,8] ≥ 0\n",
      " X[4,9] - 0.058823529411764705 Y[4,9] ≥ 0\n",
      " X[4,10] - 0.058823529411764705 Y[4,10] ≥ 0\n",
      " X[4,11] - 0.058823529411764705 Y[4,11] ≥ 0\n",
      " X[4,12] - 0.058823529411764705 Y[4,12] ≥ 0\n",
      " X[4,13] - 0.058823529411764705 Y[4,13] ≥ 0\n",
      " X[4,14] - 0.058823529411764705 Y[4,14] ≥ 0\n",
      " X[5,1] - 0.058823529411764705 Y[5,1] ≥ 0\n",
      " X[5,2] - 0.058823529411764705 Y[5,2] ≥ 0\n",
      " X[5,3] - 0.058823529411764705 Y[5,3] ≥ 0\n",
      " X[5,4] - 0.058823529411764705 Y[5,4] ≥ 0\n",
      " X[5,5] - 0.058823529411764705 Y[5,5] ≥ 0\n",
      " X[5,6] - 0.058823529411764705 Y[5,6] ≥ 0\n",
      " X[5,7] - 0.058823529411764705 Y[5,7] ≥ 0\n",
      " X[5,8] - 0.058823529411764705 Y[5,8] ≥ 0\n",
      " X[5,9] - 0.058823529411764705 Y[5,9] ≥ 0\n",
      " X[5,10] - 0.058823529411764705 Y[5,10] ≥ 0\n",
      " X[5,11] - 0.058823529411764705 Y[5,11] ≥ 0\n",
      " X[5,12] - 0.058823529411764705 Y[5,12] ≥ 0\n",
      " X[5,13] - 0.058823529411764705 Y[5,13] ≥ 0\n",
      " X[5,14] - 0.058823529411764705 Y[5,14] ≥ 0\n",
      " X[1,1] + X[2,1] + X[3,1] + X[4,1] + X[5,1] ≤ 3\n",
      " X[1,2] + X[2,2] + X[3,2] + X[4,2] + X[5,2] ≤ 3\n",
      " X[1,3] + X[2,3] + X[3,3] + X[4,3] + X[5,3] ≤ 3\n",
      " X[1,4] + X[2,4] + X[3,4] + X[4,4] + X[5,4] ≤ 3\n",
      " X[1,5] + X[2,5] + X[3,5] + X[4,5] + X[5,5] ≤ 3\n",
      " X[1,6] + X[2,6] + X[3,6] + X[4,6] + X[5,6] ≤ 3\n",
      " X[1,7] + X[2,7] + X[3,7] + X[4,7] + X[5,7] ≤ 3\n",
      " X[1,8] + X[2,8] + X[3,8] + X[4,8] + X[5,8] ≤ 3\n",
      " X[1,9] + X[2,9] + X[3,9] + X[4,9] + X[5,9] ≤ 3\n",
      " X[1,10] + X[2,10] + X[3,10] + X[4,10] + X[5,10] ≤ 3\n",
      " X[1,11] + X[2,11] + X[3,11] + X[4,11] + X[5,11] ≤ 3\n",
      " X[1,12] + X[2,12] + X[3,12] + X[4,12] + X[5,12] ≤ 3\n",
      " X[1,13] + X[2,13] + X[3,13] + X[4,13] + X[5,13] ≤ 3\n",
      " X[1,14] + X[2,14] + X[3,14] + X[4,14] + X[5,14] ≤ 3\n",
      " Y[1,1] + Y[2,1] + Y[3,1] + Y[4,1] + Y[5,1] ≤ 16\n",
      " Y[1,2] + Y[2,2] + Y[3,2] + Y[4,2] + Y[5,2] ≤ 16\n",
      " Y[1,3] + Y[2,3] + Y[3,3] + Y[4,3] + Y[5,3] ≤ 16\n",
      " Y[1,4] + Y[2,4] + Y[3,4] + Y[4,4] + Y[5,4] ≤ 16\n",
      " Y[1,5] + Y[2,5] + Y[3,5] + Y[4,5] + Y[5,5] ≤ 16\n",
      " Y[1,6] + Y[2,6] + Y[3,6] + Y[4,6] + Y[5,6] ≤ 16\n",
      " Y[1,7] + Y[2,7] + Y[3,7] + Y[4,7] + Y[5,7] ≤ 16\n",
      " Y[1,8] + Y[2,8] + Y[3,8] + Y[4,8] + Y[5,8] ≤ 16\n",
      " Y[1,9] + Y[2,9] + Y[3,9] + Y[4,9] + Y[5,9] ≤ 16\n",
      " Y[1,10] + Y[2,10] + Y[3,10] + Y[4,10] + Y[5,10] ≤ 16\n",
      " Y[1,11] + Y[2,11] + Y[3,11] + Y[4,11] + Y[5,11] ≤ 16\n",
      " Y[1,12] + Y[2,12] + Y[3,12] + Y[4,12] + Y[5,12] ≤ 16\n",
      " Y[1,13] + Y[2,13] + Y[3,13] + Y[4,13] + Y[5,13] ≤ 16\n",
      " Y[1,14] + Y[2,14] + Y[3,14] + Y[4,14] + Y[5,14] ≤ 16\n",
      " 0 ≤ X[i,j] ≤ 1, integer, ∀ i ∈ {1,2,3,4,5}, j ∈ {1,2,…,13,14}\n",
      " Y[i,j] ≥ 0 ∀ i ∈ {1,2,3,4,5}, j ∈ {1,2,…,13,14}\n",
      " 12.458750 seconds (872.41 k allocations: 50.929 MiB, 0.19% gc time)\n"
     ]
    },
    {
     "data": {
      "text/plain": [
       ":Optimal"
      ]
     },
     "execution_count": 6,
     "metadata": {},
     "output_type": "execute_result"
    }
   ],
   "source": [
    "################################################\n",
    "############# set up the data ##################\n",
    "################################################\n",
    "Random.seed!(1234);\n",
    "\n",
    "#bus company specifics\n",
    "number_of_buses = 5\n",
    "maxHoursToRepair = 8\n",
    "minHoursToRepair = 1\n",
    "failuresPerBus = 3\n",
    "maxDays = 14\n",
    "\n",
    "#generate bus company data\n",
    "dataList = GenerateExampleBusData(number_of_buses, maxHoursToRepair, minHoursToRepair, failuresPerBus, maxDays)\n",
    "bus_df = dataList[1]\n",
    "part_type_df = dataList[2]\n",
    "pred_failure_df = dataList[3]\n",
    "\n",
    "#stage one constants\n",
    "shopBerths = 3\n",
    "\n",
    "#stage two constants\n",
    "shopHours = 16\n",
    "\n",
    "###################################################\n",
    "############# set up the program ##################\n",
    "###################################################\n",
    "\n",
    "#make model\n",
    "busScheduleModel = Model(solver=GLPKSolverMIP())\n",
    "\n",
    "#make the variables\n",
    "@variable(busScheduleModel, 0 <= X[1:nrow(bus_df),1:maxDays] <= 1, Int)\n",
    "@variable(busScheduleModel, Y[1:nrow(bus_df),1:maxDays] >= 0)\n",
    "\n",
    "print(\"made the variables \\n\")\n",
    "\n",
    "#make the gotta_save_the_part(s) constraint\n",
    "for big_k in 1:nrow(pred_failure_df)\n",
    "    #find the days we have to solve this constraint\n",
    "    days_to_failure = pred_failure_df[big_k,Symbol(\"days_to_failure\")]\n",
    "    #print(days_to_failure)\n",
    "    #print(\"\\n\")\n",
    "    \n",
    "    #find the relevant i (bus index) to associate with this constraint\n",
    "    i = findall(bus_df.bus_id .== pred_failure_df[big_k,Symbol(\"bus_id\")])[1,1]\n",
    "    #print(i)\n",
    "    #print(\"\\n\")\n",
    "    \n",
    "    #find all little_k with time to fail less than or equal big_k, sum their repair times\n",
    "    index_of_failure_predictions = intersect(findall(pred_failure_df.bus_id .== pred_failure_df[big_k,Symbol(\"bus_id\")])\n",
    "                                                               ,findall(pred_failure_df.days_to_failure .<= pred_failure_df[big_k,Symbol(\"days_to_failure\")]))\n",
    "    failures_preds_with_ttrepair_df = join(pred_failure_df, part_type_df, on = :part_id, kind = :left)\n",
    "    hours_of_repair_for_this_k = sum(failures_preds_with_ttrepair_df[index_of_failure_predictions,Symbol(\"hours_to_repair\")])\n",
    "    #print(hours_of_repair_for_this_k)\n",
    "    #print(\"\\n\")\n",
    "    \n",
    "    #make the constraint\n",
    "    @constraint(busScheduleModel, sum{Y[i,j],j=1:days_to_failure} >= hours_of_repair_for_this_k)\n",
    "end\n",
    "\n",
    "print(\"made the gotta_save_the_part constraint \\n\")\n",
    "\n",
    "#make the if gotta_be_in_the_shop_to_work_on constraint\n",
    "for i in 1:nrow(bus_df)\n",
    "    for j in 1:maxDays\n",
    "        @constraint(busScheduleModel, X[i,j] >= (Y[i,j]/(shopHours + 1)))\n",
    "    end\n",
    "end\n",
    "\n",
    "print(\"made the gotta_be_in_the_shop_to_work_on constraint \\n\")\n",
    "\n",
    "#make the only_so_much_space constraint\n",
    "for j in 1:maxDays\n",
    "    @constraint(busScheduleModel, sum{X[i,j],i=1:nrow(bus_df)} <= shopBerths)\n",
    "end\n",
    "\n",
    "print(\"made the only_so_much_space constraint \\n\")\n",
    "\n",
    "#make the only_so_much_time constraint\n",
    "for j in 1:maxDays\n",
    "    @constraint(busScheduleModel, sum{Y[i,j],i=1:nrow(bus_df)} <= shopHours)\n",
    "end\n",
    "\n",
    "print(\"made the only_so_much_time constraint \\n\")\n",
    "\n",
    "#make the objective function\n",
    "@objective(busScheduleModel,Min,sum{X[i,j],i=1:nrow(bus_df),j=1:maxDays})\n",
    "\n",
    "#print out what it looks like\n",
    "print(busScheduleModel)\n",
    "\n",
    "#solve it i guess\n",
    "@time begin\n",
    "    status = solve(busScheduleModel)\n",
    "end"
   ]
  },
  {
   "cell_type": "markdown",
   "metadata": {},
   "source": [
    "### Solved Objective:"
   ]
  },
  {
   "cell_type": "code",
   "execution_count": 7,
   "metadata": {},
   "outputs": [
    {
     "name": "stdout",
     "output_type": "stream",
     "text": [
      "Bus days in shop (objective): 9.0\n"
     ]
    }
   ],
   "source": [
    "println(\"Bus days in shop (objective): \", getobjectivevalue(busScheduleModel))"
   ]
  },
  {
   "cell_type": "markdown",
   "metadata": {},
   "source": [
    "### Solved X variable:\n",
    "With the same number of buses and the same failures, the constraint of time forces he buses to come in more othen.  The shop visits are now spread more evenly over all the days."
   ]
  },
  {
   "cell_type": "code",
   "execution_count": 8,
   "metadata": {},
   "outputs": [
    {
     "data": {
      "text/plain": [
       "5×14 Array{Float64,2}:\n",
       " 1.0  0.0  0.0  0.0  0.0  0.0  0.0  0.0  0.0  0.0  0.0  0.0  0.0  0.0\n",
       " 0.0  0.0  1.0  0.0  0.0  0.0  0.0  0.0  1.0  0.0  0.0  0.0  0.0  0.0\n",
       " 0.0  0.0  0.0  1.0  0.0  0.0  0.0  0.0  0.0  0.0  0.0  1.0  0.0  0.0\n",
       " 0.0  0.0  0.0  0.0  1.0  0.0  0.0  0.0  1.0  0.0  0.0  0.0  0.0  0.0\n",
       " 0.0  1.0  1.0  0.0  0.0  0.0  0.0  0.0  0.0  0.0  0.0  0.0  0.0  0.0"
      ]
     },
     "execution_count": 8,
     "metadata": {},
     "output_type": "execute_result"
    }
   ],
   "source": [
    "getvalue(X)"
   ]
  },
  {
   "cell_type": "markdown",
   "metadata": {},
   "source": [
    "### Solved Y variable:\n",
    "\n",
    "All the shop days are the beginning of the rage are filling up on 16 hours shifts (the max).  Toward the end no work is done since much of the more evenly spread part failures were fixed in the front-loaded shop hours."
   ]
  },
  {
   "cell_type": "code",
   "execution_count": 9,
   "metadata": {},
   "outputs": [
    {
     "data": {
      "text/plain": [
       "5×14 Array{Float64,2}:\n",
       " 16.0   0.0   0.0   0.0          0.0  …  0.0   0.0  0.0  0.0   0.0  0.0  0.0\n",
       "  0.0   0.0  10.0  -9.4369e-16   0.0     0.0  14.0  0.0  0.0   0.0  0.0  0.0\n",
       "  0.0   0.0   0.0  16.0          0.0     0.0   0.0  0.0  0.0  13.0  0.0  0.0\n",
       "  0.0   0.0   0.0   0.0         16.0     0.0   2.0  0.0  0.0   0.0  0.0  0.0\n",
       "  0.0  16.0   6.0   0.0          0.0     0.0   0.0  0.0  0.0   0.0  0.0  0.0"
      ]
     },
     "execution_count": 9,
     "metadata": {},
     "output_type": "execute_result"
    }
   ],
   "source": [
    "getvalue(Y)"
   ]
  },
  {
   "cell_type": "markdown",
   "metadata": {},
   "source": [
    "# STAGE 3\n",
    "\n",
    "## SUMMARY \n",
    "\n",
    "### Variables:\n",
    "Xij: binary. Whether a given truck is in a shop on a given day.  Total number of X is the number of buses (i) multiplied by the number of days the model considers (j).  In the code it takes on a matrix of the dimensions i by j\n",
    "\n",
    "Yij: How many hours are spent on a bus when it comes into the shop. Same dimensions and number of variables as X.  Allows additional constraints to be put into place around how much work can be done in a day.\n",
    "\n",
    "SH: The fixed shop hours in the previous stage have become variable. This vairable is used in conjunction with the new financial objective.  Unlike the other variables this is a single number rather than matrix.  A more complex implementation could involve some sort of schedule.\n",
    "\n",
    "### Objective:\n",
    "Minimize cost! Two new constants are defined: cost_per_shop_hour (CsH) and cost_per_shop_day (CsD).  The cost to operate the shop is the shop hours multiplied by the cost per hour multiplied by the number of days.  An aditional large penalty for bringing the bus into the shop is factored into the optimization to ensure that the number of shop visits remains low.\n",
    "\n",
    "### Stage Considerations:\n",
    "* Despite being very simular to stage two, the addition of a thrid variable will overload the solver undercertain conditions.  Play around with the random seed and you will arrive at dramatically different results.  With under 20 variables it is possilbe to solve this problem in seconds although sometimes it appears it does get stuck.  Seed 1234 will not solve, seed 333 solves in less than a second, 555 takes around 10 seconds.\n",
    "* The shop hours can no longer be used in the gotta_be_in_the_shop_to_work_on constaint or else it would become non-linear. As such a very large number has been subsituted and achieves the same effect.  The problem could break if the shop hours exceeds this number but that is very unlikely.\n",
    "* While the next stage remains unexplored, this could be the stepping point to simulating lots of part breakdown schenarios and finding the optimal staffing strategy within a certain confidence and price range.\n",
    "\n",
    "## PROBLEM NOTATION\n",
    "\n",
    "$variable: X_{ij}$, boolean, (bus_in_shop_on_day)\n",
    "\n",
    "$variable: Y_{ij} \\geq 0$, cont, (hours_spent_on_bus_on_day)\n",
    "\n",
    "$variable: SH \\geq 0$, cont, (hours_of_shop_labor_every_day)\n",
    "\n",
    "$constraint: \\sum_{i=1:I} X_{ij} \\leq SB \\space \\forall j$ (only_so_much_space)\n",
    "\n",
    "$constraint: \\sum_{i=1:I} Y_{ij} \\leq SH \\space \\forall j$ (only_so_much_time)\n",
    "\n",
    "$constraint: X_{ij} \\geq Y_{ij}/(1000000) \\space \\forall i \\forall j$ (gotta_be_in_the_shop_to_work_on)\n",
    "\n",
    "$constraint: \\sum_{i=(i \\space of \\space k)} \\sum_{j=1:(TTF \\space of \\space k)} Y_{ij} \\geq \\sum_{k=K_i} TOR_k \\space \\forall k$ (gotta_save_the_part)\n",
    "\n",
    "$objective: min((\\sum_{i=1:I} \\sum_{j=1:J} X_{ij})*CsD \\space + \\space J*CsH*SH)$ (people_cost_money_but_busses_cost_more)"
   ]
  },
  {
   "cell_type": "code",
   "execution_count": 23,
   "metadata": {},
   "outputs": [
    {
     "name": "stdout",
     "output_type": "stream",
     "text": [
      "data generation complete \n",
      "made the variables \n",
      "made the gotta_save_the_part constraint \n",
      "made the gotta_be_in_the_shop_to_work_on constraint \n",
      "made the only_so_much_space constraint \n",
      "made the only_so_much_time constraint \n",
      "Min 1000 X[1,1] + 1000 X[1,2] + 1000 X[1,3] + 1000 X[1,4] + 1000 X[1,5] + 1000 X[1,6] + 1000 X[1,7] + 1000 X[1,8] + 1000 X[1,9] + 1000 X[1,10] + 1000 X[2,1] + 1000 X[2,2] + 1000 X[2,3] + 1000 X[2,4] + 1000 X[2,5] + 1000 X[2,6] + 1000 X[2,7] + 1000 X[2,8] + 1000 X[2,9] + 1000 X[2,10] + 1000 X[3,1] + 1000 X[3,2] + 1000 X[3,3] + 1000 X[3,4] + 1000 X[3,5] + 1000 X[3,6] + 1000 X[3,7] + 1000 X[3,8] + 1000 X[3,9] + 1000 X[3,10] + 1000 X[4,1] + 1000 X[4,2] + 1000 X[4,3] + 1000 X[4,4] + 1000 X[4,5] + 1000 X[4,6] + 1000 X[4,7] + 1000 X[4,8] + 1000 X[4,9] + 1000 X[4,10] + 1000 X[5,1] + 1000 X[5,2] + 1000 X[5,3] + 1000 X[5,4] + 1000 X[5,5] + 1000 X[5,6] + 1000 X[5,7] + 1000 X[5,8] + 1000 X[5,9] + 1000 X[5,10] + 200 SH\n",
      "Subject to\n",
      " Y[4,1] + Y[4,2] + Y[4,3] ≥ 13\n",
      " Y[5,1] + Y[5,2] + Y[5,3] + Y[5,4] + Y[5,5] + Y[5,6] + Y[5,7] + Y[5,8] ≥ 25\n",
      " Y[5,1] + Y[5,2] + Y[5,3] + Y[5,4] + Y[5,5] + Y[5,6] + Y[5,7] ≥ 18\n",
      " Y[5,1] + Y[5,2] + Y[5,3] + Y[5,4] + Y[5,5] + Y[5,6] + Y[5,7] + Y[5,8] + Y[5,9] ≥ 29\n",
      " Y[3,1] + Y[3,2] + Y[3,3] + Y[3,4] ≥ 9\n",
      " Y[1,1] + Y[1,2] + Y[1,3] + Y[1,4] ≥ 4\n",
      " Y[2,1] + Y[2,2] + Y[2,3] + Y[2,4] + Y[2,5] ≥ 17\n",
      " Y[3,1] + Y[3,2] + Y[3,3] + Y[3,4] + Y[3,5] ≥ 15\n",
      " Y[3,1] ≥ 6\n",
      " Y[2,1] + Y[2,2] + Y[2,3] ≥ 4\n",
      " Y[2,1] + Y[2,2] + Y[2,3] + Y[2,4] + Y[2,5] + Y[2,6] + Y[2,7] + Y[2,8] + Y[2,9] + Y[2,10] ≥ 23\n",
      " Y[4,1] + Y[4,2] + Y[4,3] ≥ 13\n",
      " Y[5,1] + Y[5,2] + Y[5,3] + Y[5,4] + Y[5,5] + Y[5,6] + Y[5,7] ≥ 18\n",
      " Y[5,1] + Y[5,2] ≥ 6\n",
      " Y[2,1] + Y[2,2] + Y[2,3] + Y[2,4] ≥ 11\n",
      " X[1,1] - 0.009900990099009901 Y[1,1] ≥ 0\n",
      " X[1,2] - 0.009900990099009901 Y[1,2] ≥ 0\n",
      " X[1,3] - 0.009900990099009901 Y[1,3] ≥ 0\n",
      " X[1,4] - 0.009900990099009901 Y[1,4] ≥ 0\n",
      " X[1,5] - 0.009900990099009901 Y[1,5] ≥ 0\n",
      " X[1,6] - 0.009900990099009901 Y[1,6] ≥ 0\n",
      " X[1,7] - 0.009900990099009901 Y[1,7] ≥ 0\n",
      " X[1,8] - 0.009900990099009901 Y[1,8] ≥ 0\n",
      " X[1,9] - 0.009900990099009901 Y[1,9] ≥ 0\n",
      " X[1,10] - 0.009900990099009901 Y[1,10] ≥ 0\n",
      " X[2,1] - 0.009900990099009901 Y[2,1] ≥ 0\n",
      " X[2,2] - 0.009900990099009901 Y[2,2] ≥ 0\n",
      " X[2,3] - 0.009900990099009901 Y[2,3] ≥ 0\n",
      " X[2,4] - 0.009900990099009901 Y[2,4] ≥ 0\n",
      " X[2,5] - 0.009900990099009901 Y[2,5] ≥ 0\n",
      " X[2,6] - 0.009900990099009901 Y[2,6] ≥ 0\n",
      " X[2,7] - 0.009900990099009901 Y[2,7] ≥ 0\n",
      " X[2,8] - 0.009900990099009901 Y[2,8] ≥ 0\n",
      " X[2,9] - 0.009900990099009901 Y[2,9] ≥ 0\n",
      " X[2,10] - 0.009900990099009901 Y[2,10] ≥ 0\n",
      " X[3,1] - 0.009900990099009901 Y[3,1] ≥ 0\n",
      " X[3,2] - 0.009900990099009901 Y[3,2] ≥ 0\n",
      " X[3,3] - 0.009900990099009901 Y[3,3] ≥ 0\n",
      " X[3,4] - 0.009900990099009901 Y[3,4] ≥ 0\n",
      " X[3,5] - 0.009900990099009901 Y[3,5] ≥ 0\n",
      " X[3,6] - 0.009900990099009901 Y[3,6] ≥ 0\n",
      " X[3,7] - 0.009900990099009901 Y[3,7] ≥ 0\n",
      " X[3,8] - 0.009900990099009901 Y[3,8] ≥ 0\n",
      " X[3,9] - 0.009900990099009901 Y[3,9] ≥ 0\n",
      " X[3,10] - 0.009900990099009901 Y[3,10] ≥ 0\n",
      " X[4,1] - 0.009900990099009901 Y[4,1] ≥ 0\n",
      " X[4,2] - 0.009900990099009901 Y[4,2] ≥ 0\n",
      " X[4,3] - 0.009900990099009901 Y[4,3] ≥ 0\n",
      " X[4,4] - 0.009900990099009901 Y[4,4] ≥ 0\n",
      " X[4,5] - 0.009900990099009901 Y[4,5] ≥ 0\n",
      " X[4,6] - 0.009900990099009901 Y[4,6] ≥ 0\n",
      " X[4,7] - 0.009900990099009901 Y[4,7] ≥ 0\n",
      " X[4,8] - 0.009900990099009901 Y[4,8] ≥ 0\n",
      " X[4,9] - 0.009900990099009901 Y[4,9] ≥ 0\n",
      " X[4,10] - 0.009900990099009901 Y[4,10] ≥ 0\n",
      " X[5,1] - 0.009900990099009901 Y[5,1] ≥ 0\n",
      " X[5,2] - 0.009900990099009901 Y[5,2] ≥ 0\n",
      " X[5,3] - 0.009900990099009901 Y[5,3] ≥ 0\n",
      " X[5,4] - 0.009900990099009901 Y[5,4] ≥ 0\n",
      " X[5,5] - 0.009900990099009901 Y[5,5] ≥ 0\n",
      " X[5,6] - 0.009900990099009901 Y[5,6] ≥ 0\n",
      " X[5,7] - 0.009900990099009901 Y[5,7] ≥ 0\n",
      " X[5,8] - 0.009900990099009901 Y[5,8] ≥ 0\n",
      " X[5,9] - 0.009900990099009901 Y[5,9] ≥ 0\n",
      " X[5,10] - 0.009900990099009901 Y[5,10] ≥ 0\n",
      " X[1,1] + X[2,1] + X[3,1] + X[4,1] + X[5,1] ≤ 2\n",
      " X[1,2] + X[2,2] + X[3,2] + X[4,2] + X[5,2] ≤ 2\n",
      " X[1,3] + X[2,3] + X[3,3] + X[4,3] + X[5,3] ≤ 2\n",
      " X[1,4] + X[2,4] + X[3,4] + X[4,4] + X[5,4] ≤ 2\n",
      " X[1,5] + X[2,5] + X[3,5] + X[4,5] + X[5,5] ≤ 2\n",
      " X[1,6] + X[2,6] + X[3,6] + X[4,6] + X[5,6] ≤ 2\n",
      " X[1,7] + X[2,7] + X[3,7] + X[4,7] + X[5,7] ≤ 2\n",
      " X[1,8] + X[2,8] + X[3,8] + X[4,8] + X[5,8] ≤ 2\n",
      " X[1,9] + X[2,9] + X[3,9] + X[4,9] + X[5,9] ≤ 2\n",
      " X[1,10] + X[2,10] + X[3,10] + X[4,10] + X[5,10] ≤ 2\n",
      " Y[1,1] + Y[2,1] + Y[3,1] + Y[4,1] + Y[5,1] - SH ≤ 0\n",
      " Y[1,2] + Y[2,2] + Y[3,2] + Y[4,2] + Y[5,2] - SH ≤ 0\n",
      " Y[1,3] + Y[2,3] + Y[3,3] + Y[4,3] + Y[5,3] - SH ≤ 0\n",
      " Y[1,4] + Y[2,4] + Y[3,4] + Y[4,4] + Y[5,4] - SH ≤ 0\n",
      " Y[1,5] + Y[2,5] + Y[3,5] + Y[4,5] + Y[5,5] - SH ≤ 0\n",
      " Y[1,6] + Y[2,6] + Y[3,6] + Y[4,6] + Y[5,6] - SH ≤ 0\n",
      " Y[1,7] + Y[2,7] + Y[3,7] + Y[4,7] + Y[5,7] - SH ≤ 0\n",
      " Y[1,8] + Y[2,8] + Y[3,8] + Y[4,8] + Y[5,8] - SH ≤ 0\n",
      " Y[1,9] + Y[2,9] + Y[3,9] + Y[4,9] + Y[5,9] - SH ≤ 0\n",
      " Y[1,10] + Y[2,10] + Y[3,10] + Y[4,10] + Y[5,10] - SH ≤ 0\n",
      " 0 ≤ X[i,j] ≤ 1, integer, ∀ i ∈ {1,2,3,4,5}, j ∈ {1,2,…,9,10}\n",
      " Y[i,j] ≥ 0 ∀ i ∈ {1,2,3,4,5}, j ∈ {1,2,…,9,10}\n",
      " SH ≥ 0\n",
      "  6.338082 seconds (330.84 k allocations: 60.644 MiB, 0.19% gc time)\n"
     ]
    },
    {
     "data": {
      "text/plain": [
       ":Optimal"
      ]
     },
     "execution_count": 23,
     "metadata": {},
     "output_type": "execute_result"
    }
   ],
   "source": [
    "################################################\n",
    "############# set up the data ##################\n",
    "################################################\n",
    "Random.seed!(555);\n",
    "\n",
    "#bus company specifics\n",
    "number_of_buses = 5\n",
    "maxHoursToRepair = 8\n",
    "minHoursToRepair = 1\n",
    "failuresPerBus = 3\n",
    "maxDays = 10\n",
    "\n",
    "#generate bus company data\n",
    "dataList = GenerateExampleBusData(number_of_buses, maxHoursToRepair, minHoursToRepair, failuresPerBus, maxDays)\n",
    "bus_df = dataList[1]\n",
    "part_type_df = dataList[2]\n",
    "pred_failure_df = dataList[3]\n",
    "\n",
    "#stage one constants\n",
    "shopBerths = 2\n",
    "\n",
    "#stage two constants (now a variable)\n",
    "#shopHours = 16\n",
    "\n",
    "#stage 3 constants\n",
    "CsH = 20\n",
    "CsD = 1000\n",
    "\n",
    "###################################################\n",
    "############# set up the program ##################\n",
    "###################################################\n",
    "\n",
    "#make model\n",
    "busScheduleModel = Model(solver=GLPKSolverMIP())\n",
    "\n",
    "#make the variables\n",
    "@variable(busScheduleModel, 0 <= X[1:nrow(bus_df),1:maxDays] <= 1, Int)\n",
    "@variable(busScheduleModel, Y[1:nrow(bus_df),1:maxDays] >= 0)\n",
    "@variable(busScheduleModel, SH >= 0)\n",
    "\n",
    "print(\"made the variables \\n\")\n",
    "\n",
    "#make the gotta_save_the_part(s) constraint\n",
    "for big_k in 1:nrow(pred_failure_df)\n",
    "    #find the days we have to solve this constraint\n",
    "    days_to_failure = pred_failure_df[big_k,Symbol(\"days_to_failure\")]\n",
    "    #print(days_to_failure)\n",
    "    #print(\"\\n\")\n",
    "    \n",
    "    #find the relevant i (bus index) to associate with this constraint\n",
    "    i = findall(bus_df.bus_id .== pred_failure_df[big_k,Symbol(\"bus_id\")])[1,1]\n",
    "    #print(i)\n",
    "    #print(\"\\n\")\n",
    "    \n",
    "    #find all little_k with time to fail less than or equal big_k, sum their repair times\n",
    "    index_of_failure_predictions = intersect(findall(pred_failure_df.bus_id .== pred_failure_df[big_k,Symbol(\"bus_id\")])\n",
    "                                                               ,findall(pred_failure_df.days_to_failure .<= pred_failure_df[big_k,Symbol(\"days_to_failure\")]))\n",
    "    failures_preds_with_ttrepair_df = join(pred_failure_df, part_type_df, on = :part_id, kind = :left)\n",
    "    hours_of_repair_for_this_k = sum(failures_preds_with_ttrepair_df[index_of_failure_predictions,Symbol(\"hours_to_repair\")])\n",
    "    #print(hours_of_repair_for_this_k)\n",
    "    #print(\"\\n\")\n",
    "    \n",
    "    #make the constraint\n",
    "    @constraint(busScheduleModel, sum{Y[i,j],j=1:days_to_failure} >= hours_of_repair_for_this_k)\n",
    "end\n",
    "\n",
    "print(\"made the gotta_save_the_part constraint \\n\")\n",
    "\n",
    "#make the if gotta_be_in_the_shop_to_work_on constraint\n",
    "for i in 1:nrow(bus_df)\n",
    "    for j in 1:maxDays\n",
    "        @constraint(busScheduleModel, X[i,j] >= (Y[i,j]/(100 + 1)))\n",
    "    end\n",
    "end\n",
    "\n",
    "print(\"made the gotta_be_in_the_shop_to_work_on constraint \\n\")\n",
    "\n",
    "#make the only_so_much_space constraint\n",
    "for j in 1:maxDays\n",
    "    @constraint(busScheduleModel, sum{X[i,j],i=1:nrow(bus_df)} <= shopBerths)\n",
    "end\n",
    "\n",
    "print(\"made the only_so_much_space constraint \\n\")\n",
    "\n",
    "#make the only_so_much_time constraint\n",
    "for j in 1:maxDays\n",
    "    @constraint(busScheduleModel, sum{Y[i,j],i=1:nrow(bus_df)} <= SH)\n",
    "end\n",
    "\n",
    "print(\"made the only_so_much_time constraint \\n\")\n",
    "\n",
    "#make the objective function\n",
    "@objective(busScheduleModel,Min,sum{X[i,j] * CsD,i=1:nrow(bus_df),j=1:maxDays} + CsH*SH*maxDays)\n",
    "\n",
    "#print out what it looks like\n",
    "print(busScheduleModel)\n",
    "\n",
    "#solve it i guess\n",
    "@time begin\n",
    "    status = solve(busScheduleModel)\n",
    "end"
   ]
  },
  {
   "cell_type": "markdown",
   "metadata": {},
   "source": [
    "### Solved objective and SH variable:"
   ]
  },
  {
   "cell_type": "code",
   "execution_count": 24,
   "metadata": {},
   "outputs": [
    {
     "name": "stdout",
     "output_type": "stream",
     "text": [
      "The cost of operating the shop in this scenario: 10466.666666666666\n",
      "The number of man hours required per day: 17.333333333333332\n"
     ]
    }
   ],
   "source": [
    "println(\"The cost of operating the shop in this scenario: \", getobjectivevalue(busScheduleModel))\n",
    "println(\"The number of man hours required per day: \", getvalue(SH))"
   ]
  },
  {
   "cell_type": "markdown",
   "metadata": {},
   "source": [
    "### Solved X variable:"
   ]
  },
  {
   "cell_type": "code",
   "execution_count": 25,
   "metadata": {},
   "outputs": [
    {
     "data": {
      "text/plain": [
       "5×10 Array{Float64,2}:\n",
       " 0.0  0.0  1.0  0.0  0.0  0.0  0.0  0.0  0.0  0.0\n",
       " 0.0  1.0  0.0  1.0  0.0  0.0  0.0  0.0  0.0  0.0\n",
       " 1.0  0.0  0.0  0.0  0.0  0.0  0.0  0.0  0.0  0.0\n",
       " 0.0  0.0  1.0  0.0  0.0  0.0  0.0  0.0  0.0  0.0\n",
       " 0.0  1.0  0.0  0.0  1.0  0.0  0.0  0.0  0.0  0.0"
      ]
     },
     "execution_count": 25,
     "metadata": {},
     "output_type": "execute_result"
    }
   ],
   "source": [
    "getvalue(X)"
   ]
  },
  {
   "cell_type": "markdown",
   "metadata": {},
   "source": [
    "### Solved Y variable:"
   ]
  },
  {
   "cell_type": "code",
   "execution_count": 26,
   "metadata": {},
   "outputs": [
    {
     "data": {
      "text/plain": [
       "5×10 Array{Float64,2}:\n",
       "  0.0      0.0       4.0      0.0      0.0     0.0  0.0  0.0  0.0  0.0\n",
       "  0.0      5.66667   0.0     17.3333   0.0     0.0  0.0  0.0  0.0  0.0\n",
       " 17.3333   0.0       0.0      0.0      0.0     0.0  0.0  0.0  0.0  0.0\n",
       "  0.0      0.0      13.3333   0.0      0.0     0.0  0.0  0.0  0.0  0.0\n",
       "  0.0     11.6667    0.0      0.0     17.3333  0.0  0.0  0.0  0.0  0.0"
      ]
     },
     "execution_count": 26,
     "metadata": {},
     "output_type": "execute_result"
    }
   ],
   "source": [
    "getvalue(Y)"
   ]
  }
 ],
 "metadata": {
  "kernelspec": {
   "display_name": "Julia 1.1.0",
   "language": "julia",
   "name": "julia-1.1"
  },
  "language_info": {
   "file_extension": ".jl",
   "mimetype": "application/julia",
   "name": "julia",
   "version": "1.1.0"
  }
 },
 "nbformat": 4,
 "nbformat_minor": 2
}
